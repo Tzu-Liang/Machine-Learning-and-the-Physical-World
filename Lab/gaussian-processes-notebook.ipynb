{
  "cells": [
    {
      "cell_type": "markdown",
      "id": "9538f8ae-83dc-4d30-97e9-3fe144994c83",
      "metadata": {
        "id": "9538f8ae-83dc-4d30-97e9-3fe144994c83"
      },
      "source": [
        "Gaussian Processes - Submission Notebook\n",
        "========================================\n",
        "\n"
      ]
    },
    {
      "cell_type": "markdown",
      "id": "fa20dc3b-7356-44bd-8704-442df38e6cbb",
      "metadata": {
        "id": "fa20dc3b-7356-44bd-8704-442df38e6cbb"
      },
      "source": [
        "## Gaussian Processes\n",
        "\n"
      ]
    },
    {
      "cell_type": "markdown",
      "id": "76ee7b31-4df7-4249-973c-bc4cebe3ec65",
      "metadata": {
        "id": "76ee7b31-4df7-4249-973c-bc4cebe3ec65"
      },
      "source": [
        "This notebook will form part of your individual submission for the course. The notebook will roughly mimick the parts that are in the `PDF` worksheet. Your task is to complete the code that is missing in the parts below and answer the questions that we ask. The aim is **not** for you to **solve** (I'm not actually sure what that means) the worksheet but rather for you to show your understanding of the material in the course, instead of re-running and aiming to get \"perfect\" results run things, make sure it is correct and then try to explain your results with a few sentences. Actually if it is not correct and you explain things well that might actually teach you more things. Importantly, be clear and concise with your answers, do not generate 15 plots that you do not refer to, instead generate a summary statistics that shows what you mean. The important thing is to provide a narrative not dump a lot of results on us.\n",
        "\n",
        "We are going to work with GPs in exactly the same setting as in the case of linear regression. This means we are interested in the task of observing a data-set $\\mathcal{D} = \\{x_i, y_i \\}_{i=1}^N$ where we assume the following relationship between the variates,  \n",
        "$$\n",
        "y_i = f(x_i).\n",
        "$$\n",
        "Our task is to infer the function $f(\\cdot$) from $\\mathcal{D}$. We will make the same assumptions of independence as in the linear regression case which leads us to the following likelihood function,\n",
        "$$\n",
        "p(\\mathbf{y}\\vert f(\\mathbf{x})) = \\prod_{i=1}^N p(y_i \\vert f(x_i)),\n",
        "$$\n",
        "where $f(x_i)$ is the output of the function at location $x_i$.\n",
        "\n",
        "**Question 1**\n",
        "Explain what the independence assumption implies? How would the likelihood look if we could not make this assumption?/\n",
        "\n",
        "**Answer**\n",
        "The independence assumption implies that each observation $y_i$ depends only on its corresponding $f(x_i) and not on any other observations. Hence, the joint likelihood is the product of individual likelihoods as shown in the equaiton above. Without this assumption, the joint likelihood must be expressed as a joint multivariate distributioon.\n",
        "\n",
        "Now lets get our hands dirty and do some implementation so lets import some basic libraries that we are going to need for the lab. We will also set the random number seed.\n",
        "\n"
      ]
    },
    {
      "cell_type": "code",
      "execution_count": 13,
      "id": "cda084bc-38f6-4602-b53a-15fca614d90f",
      "metadata": {
        "id": "cda084bc-38f6-4602-b53a-15fca614d90f"
      },
      "outputs": [],
      "source": [
        "import numpy as np\n",
        "import matplotlib.pyplot as plt\n",
        "from scipy.spatial.distance import cdist"
      ]
    },
    {
      "cell_type": "markdown",
      "id": "639703ec-cd45-4d7f-9dad-eea3b8152737",
      "metadata": {
        "id": "639703ec-cd45-4d7f-9dad-eea3b8152737"
      },
      "source": [
        "### Prior\n",
        "\n"
      ]
    },
    {
      "cell_type": "markdown",
      "id": "f0208af2-4677-4c54-be73-7644b19d5c95",
      "metadata": {
        "id": "f0208af2-4677-4c54-be73-7644b19d5c95"
      },
      "source": [
        "We will now proceed to define the prior over the function values $p(\\mathbf{f})$, we will do so using a Gaussian process. The prior being non-parametric needs in addition to a set of parameters $\\boldsymbol{\\theta}$ also access to the location where we want to evaluate it $\\mathbf{x}$. This means the distribution that we are going to parametrise is,\n",
        "$$\n",
        "p(\\mathbf{f}\\mid \\mathbf{x},\\boldsymbol{\\theta}) = \\mathcal{N}\\left(\\mathbf{f}\\mid \\mu(\\mathbf{x}, k(\\mathbf{x},\\mathbf{x}) \\right).\n",
        "$$\n",
        "We will begin by implementing the co-variance function $k(x_i,x_j)$. We will play around with\n",
        "\n"
      ]
    },
    {
      "cell_type": "code",
      "execution_count": null,
      "id": "f5fdd2f3-5119-46a6-ae4b-b1d5e15b5c4e",
      "metadata": {
        "id": "f5fdd2f3-5119-46a6-ae4b-b1d5e15b5c4e"
      },
      "outputs": [],
      "source": [
        "def rbf_kernel(x1, x2, varSigma, lengthscale):\n",
        "    if x2 is None:\n",
        "        d = cdist(x1, x1)\n",
        "    else:\n",
        "        d = cdist(x1, x2)\n",
        "\n",
        "    return varSigma*np.exp(-np.power(d, 2)/lengthscale)\n",
        "\n",
        "def lin_kernel(x1, x2, varSigma):\n",
        "    if x2 is None:\n",
        "        return varSigma*x1.dot(x1.T)\n",
        "    else:\n",
        "        return varSigma*x1.dot(x2.T)\n",
        "\n",
        "def white_kernel(x1, x2, varSigma):\n",
        "    if x2 is None:\n",
        "        return varSigma*np.eye(x1.shape[0])\n",
        "    else:\n",
        "        return np.zeros(x1.shape[0], x2.shape[0])\n",
        "\n",
        "def periodic_kernel(x1, x2, varSigma, period, lengthScale):\n",
        "    if x2 is None:\n",
        "        d = cdist(x1, x1)\n",
        "    else:\n",
        "        d = cdist(x1, x2)\n",
        "    return varSigma*np.exp(-(2*np.sin((np.pi/period)*d)**2)/lengthScale**2)"
      ]
    },
    {
      "cell_type": "markdown",
      "id": "e6ed609d-8568-4194-b361-5d96821331fc",
      "metadata": {
        "id": "e6ed609d-8568-4194-b361-5d96821331fc"
      },
      "source": [
        "**Question 2** Evaluate the four covariance functions implemented above for a one dimensional index set, say `x = np.linspace(-6,6,100).reshape(-1,1)` and plot the result using `plt.imshow()`. Play around with the input parameters to the co-variance functions to make sure you have an idea of what they do and how the alter the matrix. Explain briefly why the matrices look the way they do and what it will imply for which functions we find likely. Here we have worked with a one-dimensional input data, how would things change if our input domain where say four dimensional?\n",
        "\n"
      ]
    },
    {
      "cell_type": "code",
      "execution_count": 12,
      "id": "a31f97ec-1339-47e9-8f70-814aa3c900b3",
      "metadata": {
        "id": "a31f97ec-1339-47e9-8f70-814aa3c900b3",
        "outputId": "6015e443-d844-489a-a971-30775c27ab64",
        "colab": {
          "base_uri": "https://localhost:8080/",
          "height": 903,
          "referenced_widgets": [
            "c76c3a03ec2844afb148970b5c7a9a84",
            "eef96147211d4c0faeed935c3d5b7f63",
            "cb4489049ea648709e8b2d6d0623bfca",
            "7a0147a16a8a40a1bc3271fc12eefad7",
            "bc3b54ee659449e0808d91ca522e075a",
            "cb7cf3a52299412a8508dfc8dbc65a6e",
            "49335e385259425f82c708b17c96111b",
            "422aa0675741425dbd2df201cbfd238a",
            "5d9ecf3622f24ddc9e4ed45160caa998",
            "b8f4020df6074325bfb383568110a074",
            "23b6e52eef32461f99f73d31c9606439",
            "9f9f1aed370841a5a380d9c60e71f3aa",
            "7675ad0f74a94bcaa0641963e7febc4c"
          ]
        }
      },
      "outputs": [
        {
          "output_type": "display_data",
          "data": {
            "text/plain": [
              "interactive(children=(FloatSlider(value=1.0, description='varSigma', max=3.0, min=0.1), FloatSlider(value=1.0,…"
            ],
            "application/vnd.jupyter.widget-view+json": {
              "version_major": 2,
              "version_minor": 0,
              "model_id": "c76c3a03ec2844afb148970b5c7a9a84"
            }
          },
          "metadata": {}
        }
      ],
      "source": [
        "from ipywidgets import interact\n",
        "@interact(\n",
        "    varSigma=(0.1, 3.0, 0.1),\n",
        "    lengthscale=(0.1, 5.0, 0.1),\n",
        "    period=(0.1, 5.0, 0.1)\n",
        ")\n",
        "def plot_kernels(varSigma=1.0, lengthscale=1.0, period=1.0):\n",
        "    # Input grid\n",
        "    x = np.linspace(-6, 6, 100).reshape(-1, 1)\n",
        "\n",
        "    # Compute covariance matrices\n",
        "    rbf_cov = rbf_kernel(x, None, varSigma, lengthscale)\n",
        "    lin_cov = lin_kernel(x,None,varSigma)\n",
        "    white_cov = white_kernel(x,None,varSigma)\n",
        "    periodic_cov = periodic_kernel(x, None, varSigma, period, lengthscale)\n",
        "\n",
        "\n",
        "    # Plot\n",
        "    fig, axs = plt.subplots(2, 2, figsize=(10, 8))\n",
        "\n",
        "    im1 = axs[0,0].imshow(rbf_cov, cmap='viridis', origin='lower', extent= [-6,6,-6,6])\n",
        "    axs[0,0].set_title(f'RBF Kernel\\nσ²={varSigma:.2f}, ℓ={lengthscale:.2f}')\n",
        "    plt.colorbar(im1, ax=axs[0,0], fraction=0.046, pad=0.04)\n",
        "\n",
        "    im2 = axs[0,1].imshow(lin_cov, cmap='viridis', origin='lower', extent= [-6,6,-6,6])\n",
        "    axs[0,1].set_title(f'Linear Kernel\\nσ²={varSigma:.2f}')\n",
        "    plt.colorbar(im2, ax=axs[0,1], fraction=0.046, pad=0.04)\n",
        "\n",
        "    im3 = axs[1,0].imshow(white_cov, cmap='viridis', origin='lower', extent= [-6,6,-6,6])\n",
        "    axs[1,0].set_title(f'White Noise Kernel\\nσ²={varSigma:.2f}')\n",
        "    plt.colorbar(im3, ax=axs[1,0], fraction=0.046, pad=0.04)\n",
        "\n",
        "    im4 = axs[1,1].imshow(periodic_cov, cmap='viridis', origin='lower', extent= [-6,6,-6,6])\n",
        "    axs[1,1].set_title(f'Periodic Kernel\\nσ²={varSigma:.2f}, p={period:.2f}, ℓ={lengthscale:.2f}')\n",
        "    plt.colorbar(im4, ax=axs[1,1], fraction=0.046, pad=0.04)\n",
        "\n",
        "    plt.tight_layout()\n",
        "    plt.show()\n",
        "\n"
      ]
    },
    {
      "cell_type": "markdown",
      "id": "58fd1891-cd62-4935-bae5-3280044fe026",
      "metadata": {
        "id": "58fd1891-cd62-4935-bae5-3280044fe026"
      },
      "source": [
        "**Answer**\n",
        "\n",
        "# RBF:\n",
        "\n",
        "*   Shows a bright diagonal band (high correlance) in the covariance matrix.  \n",
        "*   Nearby points are hightly correlated, but far points are weekly correlated.\n",
        "*   Saller lengthscale -> thinner digonal band -> rapdily varying functions;\n",
        "*   Larger lenghtscale -> wider band -> slowly varying fucntions.\n",
        "*   Likely Functions: Smooth and continuous\n",
        "\n",
        "# Linear:\n",
        "\n",
        "*   A smooth gradient pattern\n",
        "*   Correlation depends on the product $x_ix_j$\n",
        "*   Changes sign across zero: postive when $x_i$ and $x_j$ have the same sign, and negative otherwise\n",
        "*   Likely Functions: Linear trend\n",
        "\n",
        "# White Noise:\n",
        "\n",
        "*   Indentity matrix with the same weight varSigma, and zero elsewhere\n",
        "*   No correlations between different inputs ($i\\neq j$)\n",
        "*   Likely Functions: Purely random and uncorrelated observations\n",
        "\n",
        "# Periodic:\n",
        "\n",
        "*   Repeats diagonal bands spaced by a period\n",
        "*   More peeks with lower period\n",
        "*   Saller lengthscale -> thinner digonal band -> rapdily varying functions;\n",
        "*   Larger lenghtscale -> wider band -> slowly varying fucntions.\n",
        "*   Likely Functions: Cyclical and repeating\n",
        "\n",
        "In a higher dimension (e.g. four dimension), the properties of the covaraince matrices of different kernels look similar. However, the correlations of distance-based kernels (like RBF and Periodic) change significantly because the average distance between data points is generally larger, causing that the function tends to vary quickly. Moreover, there would be more lengthscale parameters. By inspecting the optimised lengthscales, small lengthscale indicates that the corresponding dimension is highly relevent, and less relevent with respect to large lengthscale.\n",
        "\n",
        "\n",
        "\n",
        "Now when we have implemented the co-variance function we can generate samples from the prior. We can use the function `np.random.multivariate_normal()` in order to sample points from a multi-variate Gaussian. We will use a zero-mean process so the mean function is just constant $0$.\n",
        "\n"
      ]
    },
    {
      "cell_type": "code",
      "execution_count": null,
      "id": "2a42fd16-a4dd-4807-97de-a3fc2b22715e",
      "metadata": {
        "id": "2a42fd16-a4dd-4807-97de-a3fc2b22715e"
      },
      "outputs": [],
      "source": [
        "x = np.linspace(-6,6,200).reshape(-1,1)\n",
        "K = rbf_kernel(x,x,1,1)\n",
        "mu = np.zeros(x.shape)\n",
        "\n",
        "f = np.random.multivariate_normal(mu.flatten(), K, 20)\n",
        "fig = plt.figure(figsize=(10,5))\n",
        "ax = fig.add_subplot(111)\n",
        "ax.plot(x, f.T)"
      ]
    },
    {
      "cell_type": "markdown",
      "id": "3a65e736-41ba-427a-a4bf-b82085580558",
      "metadata": {
        "id": "3a65e736-41ba-427a-a4bf-b82085580558"
      },
      "source": [
        "Play around a little bit with the parameters of the co-variance function and generate samples. Try to build up a notion of how the samples are controlled by the parametrisation. Make sure that you can get the connection between the co-variance matrix that we visualised and the samples that you see.\n",
        "\n",
        "One interesting thing about co-variance functions are that they are closed under lots of operations. This means that you can combine them in different ways. Try to generate samples from a process where your prior is the `sum` the `product` of several of these functions. Experiment with this a bit, here is where you can input a lot of knowledge into the system.\n",
        "\n"
      ]
    },
    {
      "cell_type": "markdown",
      "id": "ff052ae6-95c3-4bb3-9fb4-d9c148978d2f",
      "metadata": {
        "id": "ff052ae6-95c3-4bb3-9fb4-d9c148978d2f"
      },
      "source": [
        "### Posterior\n",
        "\n"
      ]
    },
    {
      "cell_type": "markdown",
      "id": "5588a9e7-3cd0-4a33-a2c7-2c8eb8555ba3",
      "metadata": {
        "id": "5588a9e7-3cd0-4a33-a2c7-2c8eb8555ba3"
      },
      "source": [
        "Now when we have seen samples from the prior it is time to merge these assumptions with observed data. The first thing we will do is to generate some data in a way that we allow us to test things. We will generate two data-sets, a one-dimensional and a two-dimensional function.\n",
        "\n"
      ]
    },
    {
      "cell_type": "code",
      "execution_count": null,
      "id": "23a37bed-ba7d-404f-9b20-8124b349bfe3",
      "metadata": {
        "id": "23a37bed-ba7d-404f-9b20-8124b349bfe3"
      },
      "outputs": [],
      "source": [
        "def data_1d(N, noise):\n",
        "    x = np.random.randn(N)\n",
        "    x = np.sort(x)\n",
        "    y = -(-np.sin(3*x) - x**2 + 0.7*x) + noise*np.random.randn(x.shape[0])\n",
        "\n",
        "    return x,y\n",
        "\n",
        "\n",
        "def data_2d(N, noise):\n",
        "    xg = np.linspace(-4,4,N)\n",
        "    x1, x2 = np.meshgrid(xg,xg)\n",
        "    x1 = x1.flatten()\n",
        "    x2 = x2.flatten()\n",
        "\n",
        "    y = (x1**2+x2-11)**2 + (x1+x2**2-7)**2\n",
        "\n",
        "    X = np.stack((x1,x2)).T\n",
        "\n",
        "    return X, y"
      ]
    },
    {
      "cell_type": "markdown",
      "id": "930c8c41-d361-455a-90a1-737cc1e598b6",
      "metadata": {
        "id": "930c8c41-d361-455a-90a1-737cc1e598b6"
      },
      "source": [
        "Now when we have some data we will get our updated belief about the function values given the prior assumptions and the data we have observed. To do so we need to formulate the predictive distribution of the Gaussian process.\n",
        "\n",
        "**Question 3** Explain how we reach the updated belief about our function given the data? What is the specific process that we have to go through? Explain this both for any general model and what is unique (rather unique actually) about how we do this using a Gaussian process prior?\n",
        "\n",
        "**Answer**\n",
        "\n",
        "**Question 4** Now look first at the formulation of the predictive posterior. We can see that the posterior variance consists of two terms, one subtracted from the other. Explain what the effect of these two terms are and try to provide an intuition of how it leads to the posterior variance. One good way to do this is to plot each of the terms individually.\n",
        "\n",
        "**Answer**\n",
        "\n",
        "Now let us implement the predictive posterior evaluated at data `x1, y1` and evaluated at `xstar`. You might want to be a bit more clever and implement a generic function that takes the matrices as input instead so that you can try different co-variance functions.\n",
        "\n"
      ]
    },
    {
      "cell_type": "code",
      "execution_count": null,
      "id": "d22d2242-14a1-4fd9-bd48-eb7417ac0c94",
      "metadata": {
        "id": "d22d2242-14a1-4fd9-bd48-eb7417ac0c94"
      },
      "outputs": [],
      "source": [
        "def gp_prediction(x1, y1, xstar, lengthScale, varSigma, noise):\n",
        "\n",
        "\tk_starX = rbf_kernel(xstar,x1,lengthScale,varSigma,noise)\n",
        "\tk_xx = rbf_kernel(x1, None, lengthScale, varSigma, noise)\n",
        "\tk_starstar = rbf_kernel(xstar,None,lengthScale,varSigma,noise)\n",
        "\n",
        "\tmu = k_starX.dot(np.linalg.inv(k_xx)).dot(y1)\n",
        "\tvar = k_starstar - (k_starX).dot(np.linalg.inv(k_xx)).dot(k_starX.T)\n",
        "\n",
        "\treturn mu, var, xstar"
      ]
    },
    {
      "cell_type": "markdown",
      "id": "18a6ff1f-55da-4620-afed-35673071a419",
      "metadata": {
        "id": "18a6ff1f-55da-4620-afed-35673071a419"
      },
      "source": [
        "In the final step covering the material that we have covered in the lectures we are now going to include the likelihood function that we first specified and write down the predictive posterior. This alters the posterior to the one below if we have a likelihood with precision $\\beta$.\n",
        "\n",
        "\\begin{align}\n",
        "p(\\mathbf{f}_*\\vert \\mathbf{y}, \\mathbf{x},\\mathbf{x}_*,\\theta) &= \\mathcal{N}(\\mu_{\\mathbf{x}_*\\vert \\mathbf{x}}, K_{\\mathbf{x}_*\\vert \\mathbf{x}})\\\\\n",
        "\\mu_{\\mathbf{x}_*\\vert \\mathbf{x}} &= k(\\mathbf{x}_*,\\mathbf{x})\\left(k(\\mathbf{x},\\mathbf{x})+\\frac{1}{\\beta}\\mathbf{I}\\right)^{-1}\\mathbf{y}\\\\\n",
        "K_{\\mathbf{x}_*\\vert \\mathbf{x}} &= k(\\mathbf{x}_*,\\mathbf{x}_*) - k(\\mathbf{x}_*,\\mathbf{x})\\left(k(\\mathbf{x},\\mathbf{x})+\\frac{1}{\\beta}\\mathbf{I}\\right)^{-1}k(\\mathbf{x},\\mathbf{x}_*).\n",
        "\\end{align}\n",
        "\n",
        "**Question 5** Explain why the predictive posterior changes in the way it does? How does the samples of the function change from when we did not include this term? Think about the concept of \"explaining away\" that we discussed during the lectures.\n",
        "\n",
        "**Answer**\n",
        "\n"
      ]
    },
    {
      "cell_type": "markdown",
      "id": "a022d35a-a5c6-4b78-9b83-984fedcdbb8a",
      "metadata": {
        "id": "a022d35a-a5c6-4b78-9b83-984fedcdbb8a"
      },
      "source": [
        "### Learning\n",
        "\n"
      ]
    },
    {
      "cell_type": "markdown",
      "id": "7e05468b-8702-4193-aae4-0d9f93385988",
      "metadata": {
        "id": "7e05468b-8702-4193-aae4-0d9f93385988"
      },
      "source": [
        "In this final part we will go a bit beyond the material that we have covered in the lectures. So far we have specified the Gaussian process prior, performed the marginalisation and computed the predictive posterior. In this case the hyper-parameters, the parameters of the co-variance function have been fixed. We will now proceed to optimise the marginal likelihood as a way of \"learning\" the parameters. This means that our learning task is to,\n",
        "$$\n",
        "\\hat{\\boldsymbol{\\theta}} = \\operatorname{argmax}_{\\boldsymbol{\\theta}} p(\\mathbf{y}\\mid\\mathbf{X},\\boldsymbol{\\theta}).\n",
        "$$\n",
        "Now in order to make things a little bit nicer for us to optimise we are instead of looking at the likelihood going to use the negative log-marginal likelihood instead and try to find the parameters that minimises this,\n",
        "$$\n",
        "\\hat{\\boldsymbol{\\theta}} = \\operatorname{argmin}_{\\boldsymbol{\\theta}} - \\textrm{log}\\left( p(\\mathbf{y}\\mid\\mathbf{X},\\boldsymbol{\\theta})\\right) = \\mathcal{L}(\\boldsymbol{\\theta})\n",
        "$$\n",
        "\n",
        "Now lets write up the log-marginal likelihood,\n",
        "$$\n",
        "\\operatorname{log} p(\\mathbf{y}\\mid \\mathbf{X}, \\boldsymbol{\\theta}) = \\int p(\\mathbf{y}\\mid \\mathbf{f})p(\\mathbf{f}\\mid \\mathbf{X},\\boldsymbol{\\theta})\\textrm{d}\\boldsymbol{\\theta}\n",
        "$$\n",
        "$$\n",
        "-\\frac{1}{2}\\mathbf{y}^{\\textrm{T}}\\left(k(\\mathbf{x},\\mathbf{x})\\right)^{-1}\\mathbf{y} - \\frac{1}{2}\\operatorname{log}\\operatorname{det}\\left(k(\\mathbf{x},\\mathbf{x}-\\beta^{-1}\\mathbf{I}\\right) - \\frac{N}{2}\\operatorname{log}2\\pi = -\\mathcal{L}(\\boldsymbol{\\theta})\n",
        "$$\n",
        "\n",
        "We will perform the optimisation using a gradient based optimiser. This means that we need to compute the gradients of the loss-function $\\mathcal{L}$ with respect to $\\boldsymbol{\\theta}$. While these gradients are not very hard to compute by hand, and you are more than free to do so, we can also use packages that can handle `auto-differentiation`. There are lots of them around but my preference is to use `jax` which nicely follows `numpy`. Below is some scaffolding to a simple gradient based optimisation loop.\n",
        "\n"
      ]
    },
    {
      "cell_type": "code",
      "execution_count": null,
      "id": "5f27b001-cff8-4b71-ba41-6a2a7b40ea46",
      "metadata": {
        "id": "5f27b001-cff8-4b71-ba41-6a2a7b40ea46"
      },
      "outputs": [],
      "source": [
        "from jax import grad\n",
        "import jax.numpy as jnp\n",
        "\n",
        "def squared_exponential(x1, x2, theta):\n",
        "    # theta[0] - variance\n",
        "    # theta[1] - lengthscale\n",
        "    # theta[2] - noise variance\n",
        "    if x2 == None:\n",
        "        return theta[0]*jnp.exp(-cdist(x1, x1, metric='sqeuclidean')/theta[1]**2) + (1/theta[2])*jnp.eye(x.shape[0])\n",
        "    else:\n",
        "        return theta[0]*jnp.exp(-cdist(x1, x2, metric='sqeuclidean')/theta[1]**2)\n",
        "\n",
        "def logmarginal_likelihood(x, y, theta):\n",
        "    # implement the log-marginal likelihood of a GP\n",
        "\n",
        "dLdtheta = grad(logmarginal_likelihood, argnums=3)(..)\n",
        "for i in range(1000):\n",
        "\n",
        "    theta -= dLdtheta(theta) * 0.01"
      ]
    },
    {
      "cell_type": "markdown",
      "id": "92d54b08-107e-478c-a34e-f8270ecbd755",
      "metadata": {
        "id": "92d54b08-107e-478c-a34e-f8270ecbd755"
      },
      "source": [
        "Finish the code above and try to learn the hyper-parameters given a set of observed data. You might want to use data that is quite noisy and where you do not have too many data-points to avoid some computational issues that might emerge. If you are finding that the optimisation somehow crashes, try to remove `theta[2]` from the optimisation and make it a fixed value.\n",
        "\n",
        "**Question 6** Show a plot where you show both the predictive posterior of the initial setting (the start values of $\\boldsymbol{\\theta}$ and the optimised values. Explain the results.\n",
        "\n",
        "**Answer**\n",
        "\n",
        "**Question 7** In the co-variance function `def squared_exponential` above we have two linear parameters `theta[0]` and `theta[2]` that scales the two terms of the function. Interpret these two parameters, what does the relation between the two mean? Hint: rather than thinking about precision think about `1/theta[2]` which is related to the variance.\n",
        "\n",
        "**Answer**\n",
        "\n",
        "*For these last questions you are quite likely not to get the code running in a stable way for the general case and you probably have an idea why from the lecture. Instead try and find something that runs and describe why you think this special case works.*\n",
        "\n"
      ]
    },
    {
      "cell_type": "markdown",
      "id": "f2a8bdaa-aebb-4ecc-ac3d-75db18b4c686",
      "metadata": {
        "id": "f2a8bdaa-aebb-4ecc-ac3d-75db18b4c686"
      },
      "source": [
        "### Submission\n",
        "\n"
      ]
    },
    {
      "cell_type": "markdown",
      "id": "c12b3e71-7cc5-4428-a170-02ac20a1c178",
      "metadata": {
        "id": "c12b3e71-7cc5-4428-a170-02ac20a1c178"
      },
      "source": [
        "Now you are done with this notebook and hopefully you feel that you have a good understanding of Gaussian processes both in theory and in practice. The key thing when we move onto to the next parts of the course is that you start building up an intuition for what you can do with these models, how you can alter things, what assumptions/knowledge that are easy to encode etc. Please submit your notebook on `Moodle` before the deadline which is **Thursday 29th of October 12:00**\n",
        "\n"
      ]
    }
  ],
  "metadata": {
    "kernelspec": {
      "display_name": "Python 3",
      "language": "python",
      "name": "python3"
    },
    "language_info": {
      "codemirror_mode": {
        "name": "ipython",
        "version": 3
      },
      "file_extension": ".py",
      "mimetype": "text/x-python",
      "name": "python",
      "nbconvert_exporter": "python",
      "pygments_lexer": "ipython3",
      "version": "3.9.6"
    },
    "org": null,
    "colab": {
      "provenance": []
    },
    "widgets": {
      "application/vnd.jupyter.widget-state+json": {
        "c76c3a03ec2844afb148970b5c7a9a84": {
          "model_module": "@jupyter-widgets/controls",
          "model_name": "VBoxModel",
          "model_module_version": "1.5.0",
          "state": {
            "_dom_classes": [
              "widget-interact"
            ],
            "_model_module": "@jupyter-widgets/controls",
            "_model_module_version": "1.5.0",
            "_model_name": "VBoxModel",
            "_view_count": null,
            "_view_module": "@jupyter-widgets/controls",
            "_view_module_version": "1.5.0",
            "_view_name": "VBoxView",
            "box_style": "",
            "children": [
              "IPY_MODEL_eef96147211d4c0faeed935c3d5b7f63",
              "IPY_MODEL_cb4489049ea648709e8b2d6d0623bfca",
              "IPY_MODEL_7a0147a16a8a40a1bc3271fc12eefad7",
              "IPY_MODEL_bc3b54ee659449e0808d91ca522e075a"
            ],
            "layout": "IPY_MODEL_cb7cf3a52299412a8508dfc8dbc65a6e"
          }
        },
        "eef96147211d4c0faeed935c3d5b7f63": {
          "model_module": "@jupyter-widgets/controls",
          "model_name": "FloatSliderModel",
          "model_module_version": "1.5.0",
          "state": {
            "_dom_classes": [],
            "_model_module": "@jupyter-widgets/controls",
            "_model_module_version": "1.5.0",
            "_model_name": "FloatSliderModel",
            "_view_count": null,
            "_view_module": "@jupyter-widgets/controls",
            "_view_module_version": "1.5.0",
            "_view_name": "FloatSliderView",
            "continuous_update": true,
            "description": "varSigma",
            "description_tooltip": null,
            "disabled": false,
            "layout": "IPY_MODEL_49335e385259425f82c708b17c96111b",
            "max": 3,
            "min": 0.1,
            "orientation": "horizontal",
            "readout": true,
            "readout_format": ".2f",
            "step": 0.1,
            "style": "IPY_MODEL_422aa0675741425dbd2df201cbfd238a",
            "value": 1
          }
        },
        "cb4489049ea648709e8b2d6d0623bfca": {
          "model_module": "@jupyter-widgets/controls",
          "model_name": "FloatSliderModel",
          "model_module_version": "1.5.0",
          "state": {
            "_dom_classes": [],
            "_model_module": "@jupyter-widgets/controls",
            "_model_module_version": "1.5.0",
            "_model_name": "FloatSliderModel",
            "_view_count": null,
            "_view_module": "@jupyter-widgets/controls",
            "_view_module_version": "1.5.0",
            "_view_name": "FloatSliderView",
            "continuous_update": true,
            "description": "lengthscale",
            "description_tooltip": null,
            "disabled": false,
            "layout": "IPY_MODEL_5d9ecf3622f24ddc9e4ed45160caa998",
            "max": 5,
            "min": 0.1,
            "orientation": "horizontal",
            "readout": true,
            "readout_format": ".2f",
            "step": 0.1,
            "style": "IPY_MODEL_b8f4020df6074325bfb383568110a074",
            "value": 5
          }
        },
        "7a0147a16a8a40a1bc3271fc12eefad7": {
          "model_module": "@jupyter-widgets/controls",
          "model_name": "FloatSliderModel",
          "model_module_version": "1.5.0",
          "state": {
            "_dom_classes": [],
            "_model_module": "@jupyter-widgets/controls",
            "_model_module_version": "1.5.0",
            "_model_name": "FloatSliderModel",
            "_view_count": null,
            "_view_module": "@jupyter-widgets/controls",
            "_view_module_version": "1.5.0",
            "_view_name": "FloatSliderView",
            "continuous_update": true,
            "description": "period",
            "description_tooltip": null,
            "disabled": false,
            "layout": "IPY_MODEL_23b6e52eef32461f99f73d31c9606439",
            "max": 5,
            "min": 0.1,
            "orientation": "horizontal",
            "readout": true,
            "readout_format": ".2f",
            "step": 0.1,
            "style": "IPY_MODEL_9f9f1aed370841a5a380d9c60e71f3aa",
            "value": 1
          }
        },
        "bc3b54ee659449e0808d91ca522e075a": {
          "model_module": "@jupyter-widgets/output",
          "model_name": "OutputModel",
          "model_module_version": "1.0.0",
          "state": {
            "_dom_classes": [],
            "_model_module": "@jupyter-widgets/output",
            "_model_module_version": "1.0.0",
            "_model_name": "OutputModel",
            "_view_count": null,
            "_view_module": "@jupyter-widgets/output",
            "_view_module_version": "1.0.0",
            "_view_name": "OutputView",
            "layout": "IPY_MODEL_7675ad0f74a94bcaa0641963e7febc4c",
            "msg_id": "",
            "outputs": [
              {
                "output_type": "display_data",
                "data": {
                  "text/plain": "<Figure size 1000x800 with 8 Axes>",
                  "image/png": "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\n"
                },
                "metadata": {}
              }
            ]
          }
        },
        "cb7cf3a52299412a8508dfc8dbc65a6e": {
          "model_module": "@jupyter-widgets/base",
          "model_name": "LayoutModel",
          "model_module_version": "1.2.0",
          "state": {
            "_model_module": "@jupyter-widgets/base",
            "_model_module_version": "1.2.0",
            "_model_name": "LayoutModel",
            "_view_count": null,
            "_view_module": "@jupyter-widgets/base",
            "_view_module_version": "1.2.0",
            "_view_name": "LayoutView",
            "align_content": null,
            "align_items": null,
            "align_self": null,
            "border": null,
            "bottom": null,
            "display": null,
            "flex": null,
            "flex_flow": null,
            "grid_area": null,
            "grid_auto_columns": null,
            "grid_auto_flow": null,
            "grid_auto_rows": null,
            "grid_column": null,
            "grid_gap": null,
            "grid_row": null,
            "grid_template_areas": null,
            "grid_template_columns": null,
            "grid_template_rows": null,
            "height": null,
            "justify_content": null,
            "justify_items": null,
            "left": null,
            "margin": null,
            "max_height": null,
            "max_width": null,
            "min_height": null,
            "min_width": null,
            "object_fit": null,
            "object_position": null,
            "order": null,
            "overflow": null,
            "overflow_x": null,
            "overflow_y": null,
            "padding": null,
            "right": null,
            "top": null,
            "visibility": null,
            "width": null
          }
        },
        "49335e385259425f82c708b17c96111b": {
          "model_module": "@jupyter-widgets/base",
          "model_name": "LayoutModel",
          "model_module_version": "1.2.0",
          "state": {
            "_model_module": "@jupyter-widgets/base",
            "_model_module_version": "1.2.0",
            "_model_name": "LayoutModel",
            "_view_count": null,
            "_view_module": "@jupyter-widgets/base",
            "_view_module_version": "1.2.0",
            "_view_name": "LayoutView",
            "align_content": null,
            "align_items": null,
            "align_self": null,
            "border": null,
            "bottom": null,
            "display": null,
            "flex": null,
            "flex_flow": null,
            "grid_area": null,
            "grid_auto_columns": null,
            "grid_auto_flow": null,
            "grid_auto_rows": null,
            "grid_column": null,
            "grid_gap": null,
            "grid_row": null,
            "grid_template_areas": null,
            "grid_template_columns": null,
            "grid_template_rows": null,
            "height": null,
            "justify_content": null,
            "justify_items": null,
            "left": null,
            "margin": null,
            "max_height": null,
            "max_width": null,
            "min_height": null,
            "min_width": null,
            "object_fit": null,
            "object_position": null,
            "order": null,
            "overflow": null,
            "overflow_x": null,
            "overflow_y": null,
            "padding": null,
            "right": null,
            "top": null,
            "visibility": null,
            "width": null
          }
        },
        "422aa0675741425dbd2df201cbfd238a": {
          "model_module": "@jupyter-widgets/controls",
          "model_name": "SliderStyleModel",
          "model_module_version": "1.5.0",
          "state": {
            "_model_module": "@jupyter-widgets/controls",
            "_model_module_version": "1.5.0",
            "_model_name": "SliderStyleModel",
            "_view_count": null,
            "_view_module": "@jupyter-widgets/base",
            "_view_module_version": "1.2.0",
            "_view_name": "StyleView",
            "description_width": "",
            "handle_color": null
          }
        },
        "5d9ecf3622f24ddc9e4ed45160caa998": {
          "model_module": "@jupyter-widgets/base",
          "model_name": "LayoutModel",
          "model_module_version": "1.2.0",
          "state": {
            "_model_module": "@jupyter-widgets/base",
            "_model_module_version": "1.2.0",
            "_model_name": "LayoutModel",
            "_view_count": null,
            "_view_module": "@jupyter-widgets/base",
            "_view_module_version": "1.2.0",
            "_view_name": "LayoutView",
            "align_content": null,
            "align_items": null,
            "align_self": null,
            "border": null,
            "bottom": null,
            "display": null,
            "flex": null,
            "flex_flow": null,
            "grid_area": null,
            "grid_auto_columns": null,
            "grid_auto_flow": null,
            "grid_auto_rows": null,
            "grid_column": null,
            "grid_gap": null,
            "grid_row": null,
            "grid_template_areas": null,
            "grid_template_columns": null,
            "grid_template_rows": null,
            "height": null,
            "justify_content": null,
            "justify_items": null,
            "left": null,
            "margin": null,
            "max_height": null,
            "max_width": null,
            "min_height": null,
            "min_width": null,
            "object_fit": null,
            "object_position": null,
            "order": null,
            "overflow": null,
            "overflow_x": null,
            "overflow_y": null,
            "padding": null,
            "right": null,
            "top": null,
            "visibility": null,
            "width": null
          }
        },
        "b8f4020df6074325bfb383568110a074": {
          "model_module": "@jupyter-widgets/controls",
          "model_name": "SliderStyleModel",
          "model_module_version": "1.5.0",
          "state": {
            "_model_module": "@jupyter-widgets/controls",
            "_model_module_version": "1.5.0",
            "_model_name": "SliderStyleModel",
            "_view_count": null,
            "_view_module": "@jupyter-widgets/base",
            "_view_module_version": "1.2.0",
            "_view_name": "StyleView",
            "description_width": "",
            "handle_color": null
          }
        },
        "23b6e52eef32461f99f73d31c9606439": {
          "model_module": "@jupyter-widgets/base",
          "model_name": "LayoutModel",
          "model_module_version": "1.2.0",
          "state": {
            "_model_module": "@jupyter-widgets/base",
            "_model_module_version": "1.2.0",
            "_model_name": "LayoutModel",
            "_view_count": null,
            "_view_module": "@jupyter-widgets/base",
            "_view_module_version": "1.2.0",
            "_view_name": "LayoutView",
            "align_content": null,
            "align_items": null,
            "align_self": null,
            "border": null,
            "bottom": null,
            "display": null,
            "flex": null,
            "flex_flow": null,
            "grid_area": null,
            "grid_auto_columns": null,
            "grid_auto_flow": null,
            "grid_auto_rows": null,
            "grid_column": null,
            "grid_gap": null,
            "grid_row": null,
            "grid_template_areas": null,
            "grid_template_columns": null,
            "grid_template_rows": null,
            "height": null,
            "justify_content": null,
            "justify_items": null,
            "left": null,
            "margin": null,
            "max_height": null,
            "max_width": null,
            "min_height": null,
            "min_width": null,
            "object_fit": null,
            "object_position": null,
            "order": null,
            "overflow": null,
            "overflow_x": null,
            "overflow_y": null,
            "padding": null,
            "right": null,
            "top": null,
            "visibility": null,
            "width": null
          }
        },
        "9f9f1aed370841a5a380d9c60e71f3aa": {
          "model_module": "@jupyter-widgets/controls",
          "model_name": "SliderStyleModel",
          "model_module_version": "1.5.0",
          "state": {
            "_model_module": "@jupyter-widgets/controls",
            "_model_module_version": "1.5.0",
            "_model_name": "SliderStyleModel",
            "_view_count": null,
            "_view_module": "@jupyter-widgets/base",
            "_view_module_version": "1.2.0",
            "_view_name": "StyleView",
            "description_width": "",
            "handle_color": null
          }
        },
        "7675ad0f74a94bcaa0641963e7febc4c": {
          "model_module": "@jupyter-widgets/base",
          "model_name": "LayoutModel",
          "model_module_version": "1.2.0",
          "state": {
            "_model_module": "@jupyter-widgets/base",
            "_model_module_version": "1.2.0",
            "_model_name": "LayoutModel",
            "_view_count": null,
            "_view_module": "@jupyter-widgets/base",
            "_view_module_version": "1.2.0",
            "_view_name": "LayoutView",
            "align_content": null,
            "align_items": null,
            "align_self": null,
            "border": null,
            "bottom": null,
            "display": null,
            "flex": null,
            "flex_flow": null,
            "grid_area": null,
            "grid_auto_columns": null,
            "grid_auto_flow": null,
            "grid_auto_rows": null,
            "grid_column": null,
            "grid_gap": null,
            "grid_row": null,
            "grid_template_areas": null,
            "grid_template_columns": null,
            "grid_template_rows": null,
            "height": null,
            "justify_content": null,
            "justify_items": null,
            "left": null,
            "margin": null,
            "max_height": null,
            "max_width": null,
            "min_height": null,
            "min_width": null,
            "object_fit": null,
            "object_position": null,
            "order": null,
            "overflow": null,
            "overflow_x": null,
            "overflow_y": null,
            "padding": null,
            "right": null,
            "top": null,
            "visibility": null,
            "width": null
          }
        }
      }
    }
  },
  "nbformat": 4,
  "nbformat_minor": 5
}